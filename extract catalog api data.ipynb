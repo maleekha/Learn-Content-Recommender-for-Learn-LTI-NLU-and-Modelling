{
 "cells": [
  {
   "cell_type": "code",
   "execution_count": 19,
   "metadata": {},
   "outputs": [],
   "source": [
    "import requests\n",
    "import pandas as pd\n",
    "import numpy as np"
   ]
  },
  {
   "cell_type": "code",
   "execution_count": 3,
   "metadata": {},
   "outputs": [],
   "source": [
    "catalogApiURL = 'https://docs.microsoft.com/api/learn/catalog?clientId=Edna'\n",
    "data = requests.get(catalogApiURL)"
   ]
  },
  {
   "cell_type": "code",
   "execution_count": 17,
   "metadata": {},
   "outputs": [],
   "source": [
    "modules = data.json()['modules']\n",
    "learningPaths = data.json()['learningPaths']"
   ]
  },
  {
   "cell_type": "code",
   "execution_count": 29,
   "metadata": {},
   "outputs": [],
   "source": [
    "keep_cols = ['summary', 'levels', 'products', 'uid', 'type', 'title']\n",
    "keep_cols_lp = ['summary', 'levels', 'products', 'uid', 'type', 'title', 'modules']"
   ]
  },
  {
   "cell_type": "code",
   "execution_count": 28,
   "metadata": {},
   "outputs": [
    {
     "data": {
      "text/plain": [
       "dict_keys(['summary', 'levels', 'roles', 'products', 'uid', 'type', 'title', 'duration_in_minutes', 'rating', 'popularity', 'icon_url', 'locale', 'last_modified', 'url', 'firstModuleUrl', 'modules', 'number_of_children'])"
      ]
     },
     "execution_count": 28,
     "metadata": {},
     "output_type": "execute_result"
    }
   ],
   "source": [
    "learningPaths[0].keys()"
   ]
  },
  {
   "cell_type": "code",
   "execution_count": 30,
   "metadata": {},
   "outputs": [],
   "source": [
    "modules_df = pd.DataFrame(modules).loc[:, keep_cols]\n",
    "learningPaths_df = pd.DataFrame(learningPaths).loc[:, keep_cols_lp]"
   ]
  },
  {
   "cell_type": "code",
   "execution_count": 32,
   "metadata": {},
   "outputs": [],
   "source": [
    "final_df = pd.concat([modules_df, learningPaths_df])"
   ]
  },
  {
   "cell_type": "code",
   "execution_count": 33,
   "metadata": {},
   "outputs": [
    {
     "data": {
      "text/plain": [
       "(1974, 7)"
      ]
     },
     "execution_count": 33,
     "metadata": {},
     "output_type": "execute_result"
    }
   ],
   "source": [
    "final_df.shape"
   ]
  },
  {
   "cell_type": "code",
   "execution_count": 61,
   "metadata": {},
   "outputs": [],
   "source": [
    "main_prods = [final_df['products'].values[i][0].split('-')[0] for i in range(final_df.shape[0])]"
   ]
  },
  {
   "cell_type": "code",
   "execution_count": 62,
   "metadata": {},
   "outputs": [
    {
     "data": {
      "text/plain": [
       "{'ai',\n",
       " 'azure',\n",
       " 'common',\n",
       " 'dotnet',\n",
       " 'dynamics',\n",
       " 'github',\n",
       " 'm365',\n",
       " 'ms',\n",
       " 'office',\n",
       " 'power',\n",
       " 'qdk',\n",
       " 'sql',\n",
       " 'vs',\n",
       " 'windows',\n",
       " 'xamarin'}"
      ]
     },
     "execution_count": 62,
     "metadata": {},
     "output_type": "execute_result"
    }
   ],
   "source": [
    "set(main_prods)"
   ]
  },
  {
   "cell_type": "code",
   "execution_count": 63,
   "metadata": {},
   "outputs": [
    {
     "data": {
      "text/plain": [
       "{'azure',\n",
       " 'dotnet',\n",
       " 'dynamics',\n",
       " 'github',\n",
       " 'graph',\n",
       " 'm365',\n",
       " 'office',\n",
       " 'power',\n",
       " 'qdk',\n",
       " 'sql',\n",
       " 'vs',\n",
       " 'windows'}"
      ]
     },
     "execution_count": 63,
     "metadata": {},
     "output_type": "execute_result"
    }
   ],
   "source": [
    "def replace(old, new):\n",
    "    for n, i in enumerate(main_prods):\n",
    "        if i == old:\n",
    "            main_prods[n] = new\n",
    "\n",
    "replace('ai', 'power')\n",
    "replace('common', 'power')\n",
    "replace('xamarin', 'azure')\n",
    "replace('ms', 'graph')\n",
    "set(main_prods)"
   ]
  },
  {
   "cell_type": "code",
   "execution_count": 64,
   "metadata": {},
   "outputs": [],
   "source": [
    "final_df['main_product'] = main_prods"
   ]
  },
  {
   "cell_type": "code",
   "execution_count": 73,
   "metadata": {},
   "outputs": [],
   "source": [
    "title_and_summary = [final_df['title'].values[i]+' '+final_df['summary'].values[i] for i in range(final_df.shape[0])]\n",
    "final_df['title_and_summary'] = title_and_summary"
   ]
  },
  {
   "cell_type": "code",
   "execution_count": 74,
   "metadata": {},
   "outputs": [],
   "source": [
    "final_df.to_csv('data.csv', header=True, index=False)"
   ]
  }
 ],
 "metadata": {
  "kernelspec": {
   "display_name": "Python 3",
   "language": "python",
   "name": "python3"
  },
  "language_info": {
   "codemirror_mode": {
    "name": "ipython",
    "version": 3
   },
   "file_extension": ".py",
   "mimetype": "text/x-python",
   "name": "python",
   "nbconvert_exporter": "python",
   "pygments_lexer": "ipython3",
   "version": "3.8.3"
  }
 },
 "nbformat": 4,
 "nbformat_minor": 4
}
